{
 "cells": [
  {
   "cell_type": "code",
   "execution_count": 1,
   "metadata": {
    "_cell_guid": "bbc9b645-0c09-44db-b6b7-6a57e48465ff",
    "_uuid": "787212129fac0b95cc43e41b6f802ed0249227eb"
   },
   "outputs": [],
   "source": [
    "# necessary imports\n",
    "%matplotlib inline\n",
    "import os\n",
    "import numpy as np\n",
    "import pandas as pd\n",
    "import matplotlib.pyplot as plt\n",
    "\n",
    "\n",
    "from sklearn.model_selection import cross_val_score\n",
    "\n",
    "np.random.seed(19)"
   ]
  },
  {
   "cell_type": "code",
   "execution_count": 2,
   "metadata": {
    "_cell_guid": "6e5ad2bc-a608-4cee-b8c3-32347ebb91d6",
    "_uuid": "d3a1e3c03c8107d813229c384cda29f257744ba2"
   },
   "outputs": [],
   "source": [
    "data_folder = \"../input\"\n",
    "#data_folder = \"./data\"\n",
    "data = pd.read_csv(os.path.join(data_folder, \"mushrooms.csv\"))"
   ]
  },
  {
   "cell_type": "code",
   "execution_count": 3,
   "metadata": {
    "_cell_guid": "d22cd57e-2209-404e-b717-529ecd479923",
    "_uuid": "77c6dc8f59578dce39977e9b3d00aca22503168c"
   },
   "outputs": [
    {
     "data": {
      "text/html": [
       "<div>\n",
       "<style scoped>\n",
       "    .dataframe tbody tr th:only-of-type {\n",
       "        vertical-align: middle;\n",
       "    }\n",
       "\n",
       "    .dataframe tbody tr th {\n",
       "        vertical-align: top;\n",
       "    }\n",
       "\n",
       "    .dataframe thead th {\n",
       "        text-align: right;\n",
       "    }\n",
       "</style>\n",
       "<table border=\"1\" class=\"dataframe\">\n",
       "  <thead>\n",
       "    <tr style=\"text-align: right;\">\n",
       "      <th></th>\n",
       "      <th>class</th>\n",
       "      <th>cap-shape</th>\n",
       "      <th>cap-surface</th>\n",
       "      <th>cap-color</th>\n",
       "      <th>bruises</th>\n",
       "      <th>odor</th>\n",
       "      <th>gill-attachment</th>\n",
       "      <th>gill-spacing</th>\n",
       "      <th>gill-size</th>\n",
       "      <th>gill-color</th>\n",
       "      <th>...</th>\n",
       "      <th>stalk-surface-below-ring</th>\n",
       "      <th>stalk-color-above-ring</th>\n",
       "      <th>stalk-color-below-ring</th>\n",
       "      <th>veil-type</th>\n",
       "      <th>veil-color</th>\n",
       "      <th>ring-number</th>\n",
       "      <th>ring-type</th>\n",
       "      <th>spore-print-color</th>\n",
       "      <th>population</th>\n",
       "      <th>habitat</th>\n",
       "    </tr>\n",
       "  </thead>\n",
       "  <tbody>\n",
       "    <tr>\n",
       "      <th>0</th>\n",
       "      <td>p</td>\n",
       "      <td>x</td>\n",
       "      <td>s</td>\n",
       "      <td>n</td>\n",
       "      <td>t</td>\n",
       "      <td>p</td>\n",
       "      <td>f</td>\n",
       "      <td>c</td>\n",
       "      <td>n</td>\n",
       "      <td>k</td>\n",
       "      <td>...</td>\n",
       "      <td>s</td>\n",
       "      <td>w</td>\n",
       "      <td>w</td>\n",
       "      <td>p</td>\n",
       "      <td>w</td>\n",
       "      <td>o</td>\n",
       "      <td>p</td>\n",
       "      <td>k</td>\n",
       "      <td>s</td>\n",
       "      <td>u</td>\n",
       "    </tr>\n",
       "    <tr>\n",
       "      <th>1</th>\n",
       "      <td>e</td>\n",
       "      <td>x</td>\n",
       "      <td>s</td>\n",
       "      <td>y</td>\n",
       "      <td>t</td>\n",
       "      <td>a</td>\n",
       "      <td>f</td>\n",
       "      <td>c</td>\n",
       "      <td>b</td>\n",
       "      <td>k</td>\n",
       "      <td>...</td>\n",
       "      <td>s</td>\n",
       "      <td>w</td>\n",
       "      <td>w</td>\n",
       "      <td>p</td>\n",
       "      <td>w</td>\n",
       "      <td>o</td>\n",
       "      <td>p</td>\n",
       "      <td>n</td>\n",
       "      <td>n</td>\n",
       "      <td>g</td>\n",
       "    </tr>\n",
       "    <tr>\n",
       "      <th>2</th>\n",
       "      <td>e</td>\n",
       "      <td>b</td>\n",
       "      <td>s</td>\n",
       "      <td>w</td>\n",
       "      <td>t</td>\n",
       "      <td>l</td>\n",
       "      <td>f</td>\n",
       "      <td>c</td>\n",
       "      <td>b</td>\n",
       "      <td>n</td>\n",
       "      <td>...</td>\n",
       "      <td>s</td>\n",
       "      <td>w</td>\n",
       "      <td>w</td>\n",
       "      <td>p</td>\n",
       "      <td>w</td>\n",
       "      <td>o</td>\n",
       "      <td>p</td>\n",
       "      <td>n</td>\n",
       "      <td>n</td>\n",
       "      <td>m</td>\n",
       "    </tr>\n",
       "    <tr>\n",
       "      <th>3</th>\n",
       "      <td>p</td>\n",
       "      <td>x</td>\n",
       "      <td>y</td>\n",
       "      <td>w</td>\n",
       "      <td>t</td>\n",
       "      <td>p</td>\n",
       "      <td>f</td>\n",
       "      <td>c</td>\n",
       "      <td>n</td>\n",
       "      <td>n</td>\n",
       "      <td>...</td>\n",
       "      <td>s</td>\n",
       "      <td>w</td>\n",
       "      <td>w</td>\n",
       "      <td>p</td>\n",
       "      <td>w</td>\n",
       "      <td>o</td>\n",
       "      <td>p</td>\n",
       "      <td>k</td>\n",
       "      <td>s</td>\n",
       "      <td>u</td>\n",
       "    </tr>\n",
       "    <tr>\n",
       "      <th>4</th>\n",
       "      <td>e</td>\n",
       "      <td>x</td>\n",
       "      <td>s</td>\n",
       "      <td>g</td>\n",
       "      <td>f</td>\n",
       "      <td>n</td>\n",
       "      <td>f</td>\n",
       "      <td>w</td>\n",
       "      <td>b</td>\n",
       "      <td>k</td>\n",
       "      <td>...</td>\n",
       "      <td>s</td>\n",
       "      <td>w</td>\n",
       "      <td>w</td>\n",
       "      <td>p</td>\n",
       "      <td>w</td>\n",
       "      <td>o</td>\n",
       "      <td>e</td>\n",
       "      <td>n</td>\n",
       "      <td>a</td>\n",
       "      <td>g</td>\n",
       "    </tr>\n",
       "  </tbody>\n",
       "</table>\n",
       "<p>5 rows × 23 columns</p>\n",
       "</div>"
      ],
      "text/plain": [
       "  class cap-shape cap-surface cap-color bruises odor gill-attachment  \\\n",
       "0     p         x           s         n       t    p               f   \n",
       "1     e         x           s         y       t    a               f   \n",
       "2     e         b           s         w       t    l               f   \n",
       "3     p         x           y         w       t    p               f   \n",
       "4     e         x           s         g       f    n               f   \n",
       "\n",
       "  gill-spacing gill-size gill-color   ...   stalk-surface-below-ring  \\\n",
       "0            c         n          k   ...                          s   \n",
       "1            c         b          k   ...                          s   \n",
       "2            c         b          n   ...                          s   \n",
       "3            c         n          n   ...                          s   \n",
       "4            w         b          k   ...                          s   \n",
       "\n",
       "  stalk-color-above-ring stalk-color-below-ring veil-type veil-color  \\\n",
       "0                      w                      w         p          w   \n",
       "1                      w                      w         p          w   \n",
       "2                      w                      w         p          w   \n",
       "3                      w                      w         p          w   \n",
       "4                      w                      w         p          w   \n",
       "\n",
       "  ring-number ring-type spore-print-color population habitat  \n",
       "0           o         p                 k          s       u  \n",
       "1           o         p                 n          n       g  \n",
       "2           o         p                 n          n       m  \n",
       "3           o         p                 k          s       u  \n",
       "4           o         e                 n          a       g  \n",
       "\n",
       "[5 rows x 23 columns]"
      ]
     },
     "execution_count": 3,
     "metadata": {},
     "output_type": "execute_result"
    }
   ],
   "source": [
    "data.head()"
   ]
  },
  {
   "cell_type": "markdown",
   "metadata": {
    "_cell_guid": "6783ffa9-d4ea-4ed2-bff4-57603b57fb02",
    "_uuid": "2961162102b50904aa03ef4fee50db95e87970d7"
   },
   "source": [
    "### 数据预处理"
   ]
  },
  {
   "cell_type": "code",
   "execution_count": 4,
   "metadata": {
    "_cell_guid": "1d21f01d-1803-491c-bc12-e75d607f43f0",
    "_uuid": "63f130db9e5f0ae33ad586a7195e7e2bd98b6221"
   },
   "outputs": [],
   "source": [
    "data['class'] = data['class'].apply(lambda x: 1 if x =='p' else -1)"
   ]
  },
  {
   "cell_type": "code",
   "execution_count": 5,
   "metadata": {
    "_cell_guid": "c3f12f95-cc71-4a5c-920d-ae9c0bf45433",
    "_uuid": "d6f5985e6875bad709beaac8686338f482c00340"
   },
   "outputs": [],
   "source": [
    "def dummies(data, columns=['pclass','name_title','embarked', 'sex']):\n",
    "    for col in columns:\n",
    "        data[col] = data[col].apply(lambda x: str(x))\n",
    "        new_cols = [col + '_' + i for i in data[col].unique()]\n",
    "        data = pd.concat([data, pd.get_dummies(data[col], prefix=col)[new_cols]], axis=1)\n",
    "        del data[col]\n",
    "    return data"
   ]
  },
  {
   "cell_type": "code",
   "execution_count": 6,
   "metadata": {
    "_cell_guid": "a1de03b2-d9eb-4f1e-8ff4-1423c6f7f656",
    "_uuid": "b16e1a21142e4ef97e8be3ac50789d8aaf1f3813"
   },
   "outputs": [],
   "source": [
    "target = 'class'\n",
    "cols = data.columns.tolist()[1:]"
   ]
  },
  {
   "cell_type": "code",
   "execution_count": 7,
   "metadata": {
    "_cell_guid": "bed50d87-917a-40e1-b6be-9eb61cbcca1f",
    "_uuid": "9493cb83b3375f785b0a8d9a3d65746bde317652"
   },
   "outputs": [],
   "source": [
    "data_set = dummies(data, columns = cols)"
   ]
  },
  {
   "cell_type": "code",
   "execution_count": 8,
   "metadata": {
    "_cell_guid": "8ef0ac21-6337-4bc7-9652-e945301d7a3c",
    "_uuid": "448219f8d48129e79d2842d36c9fa4b79c734385"
   },
   "outputs": [],
   "source": [
    "from sklearn.model_selection import train_test_split\n",
    "train_data, test_data = train_test_split(data_set, test_size=0.3)"
   ]
  },
  {
   "cell_type": "code",
   "execution_count": 9,
   "metadata": {
    "_cell_guid": "ee1adb00-5395-4b8b-a5b9-ccc27ab05c40",
    "_uuid": "95b08e116e7155a6c2e8e5c97b9d8d31b248445f"
   },
   "outputs": [],
   "source": [
    "trainX, trainY = train_data.iloc[:, 1:], pd.DataFrame(train_data[target])\n",
    "testX, testY = test_data.iloc[:, 1:], pd.DataFrame(test_data[target])"
   ]
  },
  {
   "cell_type": "markdown",
   "metadata": {
    "_cell_guid": "861f8f38-641c-4a14-8eb2-0430b9dee8b3",
    "_uuid": "588e07a4f0084154eaf524a32bb86777430f51ee"
   },
   "source": [
    "### 基于决策树的完全手动实现adaboost"
   ]
  },
  {
   "cell_type": "code",
   "execution_count": 10,
   "metadata": {
    "_cell_guid": "60e7ed32-3001-4e08-9da8-2a9ed34a0239",
    "_uuid": "617cb6a7319dffbe58185586be4cffe286d602b5"
   },
   "outputs": [],
   "source": [
    "class TreeNode:\n",
    "    def __init__(self, is_leaf, prediction, split_feature):\n",
    "        self.is_leaf = is_leaf\n",
    "        self.prediction = prediction\n",
    "        self.split_feature = split_feature\n",
    "        self.left = None\n",
    "        self.right = None"
   ]
  },
  {
   "cell_type": "code",
   "execution_count": 11,
   "metadata": {
    "_cell_guid": "d8f099a7-41ba-4127-b158-ad926e536b8c",
    "_uuid": "83d4e12ddca0a63cde24cadf84e340d8037d841b"
   },
   "outputs": [],
   "source": [
    "def node_weighted_mistakes(targets_in_node, data_weights):\n",
    "    # 计算lable 为+1的所有数据的权重和\n",
    "    weight_positive = data_weights[targets_in_node == +1].sum()\n",
    "    \n",
    "    # 如果全部预测为-1，那么预测错误的数据权重等于weight_positive\n",
    "    weighted_mistakes_negative = weight_positive\n",
    "    \n",
    "    # 计算lable 为+1的所有数据的权重和\n",
    "    weight_negative = data_weights[targets_in_node == -1].sum()\n",
    "    \n",
    "    # 如果全部预测为+1，那么预测错误的数据权重等于weight_negative\n",
    "    weighted_mistakes_positive = weight_negative\n",
    "    \n",
    "    #将加权错误和对应的预测标签一起输出\n",
    "    if weighted_mistakes_negative < weighted_mistakes_positive:\n",
    "        return weighted_mistakes_negative, -1\n",
    "    else:\n",
    "        return weighted_mistakes_positive, +1"
   ]
  },
  {
   "cell_type": "markdown",
   "metadata": {
    "_cell_guid": "9317aec3-6040-4910-93ca-e9dfd7ebc9a5",
    "_uuid": "c0719b2905d8fa674256ba5cadeada045f882ee6"
   },
   "source": [
    "#### 阶段性测试  \n",
    "- 测试node_weighted_mistakes函数，对测试样例输出应该是(2.5,-1),表示预测错误的权重为2.5，预测结果为-1"
   ]
  },
  {
   "cell_type": "code",
   "execution_count": 12,
   "metadata": {
    "_cell_guid": "9bb36052-948d-4e23-8894-5042d87dd41e",
    "_uuid": "385389048048921079e7cff8b7cd9a35c4e29a2f"
   },
   "outputs": [
    {
     "data": {
      "text/plain": [
       "(2.5, -1)"
      ]
     },
     "execution_count": 12,
     "metadata": {},
     "output_type": "execute_result"
    }
   ],
   "source": [
    "#test\n",
    "example_targets = np.array([-1, -1, 1, 1, 1])\n",
    "example_data_weights = np.array([1., 2., .5, 1., 1.])\n",
    "node_weighted_mistakes(example_targets, example_data_weights)"
   ]
  },
  {
   "cell_type": "markdown",
   "metadata": {
    "_cell_guid": "e7991bf4-134b-4581-bef4-22687fbf500f",
    "_uuid": "065fb3b980199ec671fe9eb79f3d72a041124042"
   },
   "source": [
    "### 重新写best_split函数，这个时候需要用weighted error来选择最佳特征"
   ]
  },
  {
   "cell_type": "code",
   "execution_count": 13,
   "metadata": {
    "_cell_guid": "4519682a-d9d2-4928-9f04-e7a6066945be",
    "_uuid": "23e9bd8a0c887a64253f70be5363c77a22f74c1c"
   },
   "outputs": [],
   "source": [
    "def best_split_weighted(data, features, target, data_weights):\n",
    "    # return the best feature\n",
    "    best_feature = None\n",
    "    best_error = float(\"inf\")\n",
    "    num_data_points = float(len(data))  \n",
    "\n",
    "    for feature in features:\n",
    "        \n",
    "        # 左分支对应当前特征为0的数据点\n",
    "        left_split = data[data[feature] == 0]\n",
    "        \n",
    "        # 进入左分支数据点的权重\n",
    "        left_data_weights = data_weights[data[feature] == 0]\n",
    "        \n",
    "        \n",
    "        # 右分支对应当前特征为1的数据点\n",
    "        right_split = data[data[feature] == 1]\n",
    "        \n",
    "        # 进入右分支数据点的权重\n",
    "        right_data_weights = data_weights[data[feature] == 1]\n",
    "        \n",
    "        # 重点！！\n",
    "        # 计算左边分支里犯了多少错 (加权结果！！)\n",
    "        left_misses, left_class = node_weighted_mistakes(left_split[target], left_data_weights)\n",
    "\n",
    "        # 计算右边分支里犯了多少错 (加权结果！！)\n",
    "        right_misses, right_class = node_weighted_mistakes(right_split[target], right_data_weights)\n",
    "            \n",
    "        # 计算当前划分之后的分类犯错率\n",
    "        error = (left_misses + right_misses) / data_weights.sum()\n",
    "\n",
    "        # 更新应选特征和错误率，注意错误越低说明该特征越好\n",
    "        if error < best_error:\n",
    "            best_error = error\n",
    "            best_feature = feature\n",
    "    return best_feature"
   ]
  },
  {
   "cell_type": "markdown",
   "metadata": {
    "_cell_guid": "f6304b61-8c67-411a-8ae9-e74d435b5aa3",
    "_uuid": "70a1f70eceee0f700cfca92fe24ef392eeecb6c8"
   },
   "source": [
    "#### 阶段性测试  \n",
    "- 测试best_split_weighted函数，结果应该是\"odor_n\" 这个特征"
   ]
  },
  {
   "cell_type": "code",
   "execution_count": 14,
   "metadata": {
    "_cell_guid": "6772a05b-3694-4b56-9a71-aed518907df5",
    "_uuid": "c888605006146b53c1a7966cb3a04d3e69ffd9fb"
   },
   "outputs": [
    {
     "data": {
      "text/plain": [
       "'odor_n'"
      ]
     },
     "execution_count": 14,
     "metadata": {},
     "output_type": "execute_result"
    }
   ],
   "source": [
    "# test\n",
    "# 根据之前的实现，最佳特征\n",
    "features = data_set.columns.drop(target)\n",
    "example_data_weights = np.array(len(train_data) * [2])\n",
    "best_split_weighted(train_data, features, target, example_data_weights)"
   ]
  },
  {
   "cell_type": "code",
   "execution_count": 15,
   "metadata": {
    "_cell_guid": "76acf573-be0d-4b9b-ab7d-6c9f5bd4c816",
    "_uuid": "8aeeab31cf2d8592eb57b81980be320c42fab033"
   },
   "outputs": [],
   "source": [
    "class TreeNode:\n",
    "    def __init__(self, is_leaf, prediction, split_feature):\n",
    "        self.is_leaf = is_leaf\n",
    "        self.prediction = prediction\n",
    "        self.split_feature = split_feature\n",
    "        self.left = None\n",
    "        self.right = None\n",
    "\n",
    "def create_leaf(target_values, data_weights):\n",
    "    # 用于创建叶子的函数\n",
    "    \n",
    "    # 初始化一个树节点\n",
    "    leaf = TreeNode(True, None, None)\n",
    "    \n",
    "    # 直接调用node_weighted_mistakes得到叶子节点的预测结果\n",
    "    weighted_error, prediction_class = node_weighted_mistakes(target_values, data_weights)\n",
    "    \n",
    "    leaf.prediction = prediction_class\n",
    "        \n",
    "    # 返回叶子        \n",
    "    return leaf "
   ]
  },
  {
   "cell_type": "code",
   "execution_count": 16,
   "metadata": {
    "_cell_guid": "8305f448-563a-4b44-b6bc-4fe244a14b00",
    "_uuid": "5b236313c3c720bafc6091532ebda4b2ed25cf5d"
   },
   "outputs": [],
   "source": [
    "def create_weighted_tree(data, data_weights, features, target, current_depth = 0, max_depth = 10, min_error=1e-15):\n",
    "    # 拷贝以下可用特征\n",
    "    remaining_features = features[:]\n",
    "    \n",
    "    target_values = data[target]\n",
    "    \n",
    "    # termination 1 based on min_error\n",
    "    if node_weighted_mistakes(target_values, data_weights)[0] <= min_error:\n",
    "        print(\"Termination 1 reached.\")     \n",
    "        return create_leaf(target_values, data_weights)\n",
    "    \n",
    "    # termination 2 based on number of remaining_features\n",
    "    if len(remaining_features) == 0:\n",
    "        print(\"Termination 2 reached.\")    \n",
    "        return create_leaf(target_values, data_weights)\n",
    "    \n",
    "    # termination 3\n",
    "    if current_depth >= max_depth:\n",
    "        print(\"Termination 3 reached.\")\n",
    "        return create_leaf(target_values, data_weights)\n",
    "    \n",
    "    # 选出最佳当前划分特征\n",
    "    split_feature = best_split_weighted(data, features, target, data_weights) # 根据加权错误来划分\n",
    "    \n",
    "    # 选出最佳特征后，该特征为0的数据分到左边，该特征为1的数据分到右边\n",
    "    left_split = data[data[split_feature] == 0]\n",
    "    right_split = data[data[split_feature] == 1]\n",
    "    \n",
    "    # 将对应数据的权重也分到左边与右边\n",
    "    left_data_weights = data_weights[data[split_feature] == 0]\n",
    "    right_data_weights = data_weights[data[split_feature] == 1]\n",
    "    \n",
    "    # 剔除已经用过的特征\n",
    "    remaining_features = remaining_features.drop(split_feature)\n",
    "    print(\"Split on feature %s. (%s, %s)\" % (split_feature, str(len(left_split)), str(len(right_split))))\n",
    "    \n",
    "    # 如果当前数据全部划分到了一边，直接创建叶子节点返回即可\n",
    "    if len(left_split) == len(data):\n",
    "        print(\"Perfect split!\")\n",
    "        return create_leaf(left_split[target],left_data_weights)\n",
    "    if len(right_split) == len(data):\n",
    "        print(\"Perfect split!\")\n",
    "        return create_leaf(right_split[target], right_data_weights)\n",
    "        \n",
    "    # 递归上面的步骤\n",
    "    left_tree = create_weighted_tree(left_split, left_data_weights, remaining_features, target, current_depth+1, max_depth, min_error)\n",
    "    right_tree = create_weighted_tree(right_split, right_data_weights, remaining_features, target, current_depth+1, max_depth, min_error)\n",
    "    \n",
    "    \n",
    "    #生成当前的树节点\n",
    "    result_node = TreeNode(False, None, split_feature)\n",
    "    result_node.left = left_tree\n",
    "    result_node.right = right_tree\n",
    "    return result_node"
   ]
  },
  {
   "cell_type": "code",
   "execution_count": 17,
   "metadata": {
    "_cell_guid": "ed1b57ed-7048-4538-aa71-24d8b679849b",
    "_uuid": "7f61c4761d35b3f93fb8a37ae4c37e1de2ab1318"
   },
   "outputs": [],
   "source": [
    "def count_leaves(tree):\n",
    "    if tree.is_leaf:\n",
    "        return 1\n",
    "    return count_leaves(tree.left) + count_leaves(tree.right)"
   ]
  },
  {
   "cell_type": "markdown",
   "metadata": {
    "_cell_guid": "71d62cb5-845b-41f4-8413-8ef7677cdd61",
    "_uuid": "9ec63a790de054c05072036ac98406ae6b7fe643"
   },
   "source": [
    "#### 阶段性测试  \n",
    "- 测试create_weighted_tree函数，根据测试样例，输出应该是4"
   ]
  },
  {
   "cell_type": "code",
   "execution_count": 18,
   "metadata": {
    "_cell_guid": "3ca897cd-eb0b-4589-83a3-8d7334288adb",
    "_uuid": "bba922dfb72a442e0de22db371bdabb521c917ac"
   },
   "outputs": [
    {
     "name": "stdout",
     "output_type": "stream",
     "text": [
      "Split on feature odor_n. (3209, 2477)\n",
      "Split on feature stalk-root_c. (2813, 396)\n",
      "Termination 3 reached.\n",
      "Termination 3 reached.\n",
      "Split on feature spore-print-color_r. (2421, 56)\n",
      "Termination 3 reached.\n",
      "Termination 1 reached.\n"
     ]
    },
    {
     "data": {
      "text/plain": [
       "4"
      ]
     },
     "execution_count": 18,
     "metadata": {},
     "output_type": "execute_result"
    }
   ],
   "source": [
    "# test\n",
    "example_data_weights =np.array([1.0 for i in range(len(train_data))])\n",
    "small_data_decision_tree = create_weighted_tree(train_data,example_data_weights, features, target,max_depth=2)\n",
    "count_leaves(small_data_decision_tree)"
   ]
  },
  {
   "cell_type": "code",
   "execution_count": 19,
   "metadata": {
    "_cell_guid": "a22a9836-cc81-4a98-a545-36fec49d6cd6",
    "_uuid": "ff9c852bd2e0405863a4017c24c4a2c83db48bfd"
   },
   "outputs": [],
   "source": [
    "def predict_single_data(tree, x, annotate = False):   \n",
    "    # 如果已经是叶子节点直接返回叶子节点的预测结果\n",
    "    if tree.is_leaf:\n",
    "        if annotate: \n",
    "            print(\"leaf node, predicting %s\" % tree.prediction)\n",
    "        return tree.prediction \n",
    "    else:\n",
    "        # 查询当前节点用来划分数据集的特征\n",
    "        split_feature_value = x[tree.split_feature]\n",
    "        \n",
    "        if annotate: \n",
    "            print(\"Split on %s = %s\" % (tree.split_feature, split_feature_value))\n",
    "        if split_feature_value == 0:\n",
    "            #如果数据在该特征上的值为0，交给左子树来预测\n",
    "            return predict_single_data(tree.left, x, annotate)\n",
    "        else:\n",
    "            #如果数据在该特征上的值为0，交给右子树来预测\n",
    "            return predict_single_data(tree.right, x, annotate)"
   ]
  },
  {
   "cell_type": "code",
   "execution_count": 20,
   "metadata": {
    "_cell_guid": "62931f84-cc3f-4a33-92f3-14631a152172",
    "_uuid": "182e41540355f957116f3b9915add033b1c4702e"
   },
   "outputs": [],
   "source": [
    "def evaluate_accuracy(tree, data):\n",
    "    # 将predict函数应用在数据data的每一行\n",
    "    prediction = data.apply(lambda row: predict_single_data(tree, row), axis=1)\n",
    "    # 返回正确率\n",
    "    accuracy = (prediction == data[target]).sum() * 1.0 / len(data)\n",
    "    return accuracy"
   ]
  },
  {
   "cell_type": "code",
   "execution_count": 21,
   "metadata": {
    "_cell_guid": "c89b428b-600b-404e-8858-4f3363f93394",
    "_uuid": "2aeff0dc566460faf2b262b63eb70b94193bc714"
   },
   "outputs": [
    {
     "data": {
      "text/plain": [
       "0.9524200164068909"
      ]
     },
     "execution_count": 21,
     "metadata": {},
     "output_type": "execute_result"
    }
   ],
   "source": [
    "# test 根据测试样例，输出应该至少是0.95以上\n",
    "evaluate_accuracy(small_data_decision_tree, test_data)"
   ]
  },
  {
   "cell_type": "code",
   "execution_count": null,
   "metadata": {
    "_cell_guid": "7b74a7e7-0bbe-4baf-a1d0-5476f20e05f4",
    "_uuid": "a28650f1fa10455ad646211db83439839733fba1",
    "collapsed": true
   },
   "outputs": [],
   "source": []
  },
  {
   "cell_type": "code",
   "execution_count": 22,
   "metadata": {
    "_cell_guid": "72014f6e-6626-496d-a324-e291a8ac6540",
    "_uuid": "4d6b2b7409ee1bc98a867b89c9c81292a28df606"
   },
   "outputs": [],
   "source": [
    "from sklearn.base import BaseEstimator\n",
    "from sklearn.metrics import accuracy_score\n",
    "class WeightedDecisionTree(BaseEstimator):\n",
    "    \n",
    "    def __init__(self, max_depth, min_error):\n",
    "        self.max_depth = max_depth\n",
    "        self.min_error = min_error\n",
    "    \n",
    "    def fit(self, X, Y, data_weights = None):\n",
    "        data_set = pd.concat([X, Y], axis=1)\n",
    "        features = X.columns\n",
    "        target = Y.columns[0]\n",
    "        self.root_node = create_weighted_tree(data_set, data_weights, features, target, current_depth=0, max_depth=self.max_depth, min_error=self.min_error)\n",
    "        \n",
    "    def predict(self, X):\n",
    "        prediction = X.apply(lambda row: predict_single_data(self.root_node, row), axis=1)\n",
    "        return prediction\n",
    "             \n",
    "    def score(self, testX, testY):\n",
    "        target = testY.columns[0]\n",
    "        result = self.predict(testX)\n",
    "        return accuracy_score(testY[target], result)    "
   ]
  },
  {
   "cell_type": "code",
   "execution_count": 23,
   "metadata": {
    "_cell_guid": "7e8fd914-70cb-47ca-88d8-4775e6015e3c",
    "_uuid": "6594455d94ac23ac5232782b1e8858bca6bb5613"
   },
   "outputs": [],
   "source": [
    "from sklearn.base import BaseEstimator\n",
    "class MyAdaboost(BaseEstimator):\n",
    "    \n",
    "    def __init__(self, M):\n",
    "        self.M = M\n",
    "        \n",
    "    def fit(self, X, Y):\n",
    "        self.models = []\n",
    "        self.model_weights = []\n",
    "        self.target = Y.columns[0]\n",
    "        \n",
    "        N, _ = X.shape\n",
    "        alpha = np.ones(N) / N    # data weights\n",
    "        \n",
    "        for m in range(self.M):\n",
    "            tree = WeightedDecisionTree(max_depth=2, min_error=1e-15)\n",
    "            tree.fit(X, Y, data_weights=alpha)\n",
    "            prediction = tree.predict(X)\n",
    "            \n",
    "            # 计算加权错误\n",
    "            weighted_error = np.dot(alpha, Y[self.target] != prediction)\n",
    "            \n",
    "            # 计算当前模型的权重\n",
    "            model_weight = 0.5 * np.log((1. - weighted_error) / weighted_error)\n",
    "            \n",
    "            # 更新数据的权重\n",
    "            alpha = alpha * np.exp(-model_weight * Y[self.target] * prediction)\n",
    "            # 数据权重normalize\n",
    "            alpha = alpha / alpha.sum()\n",
    "            \n",
    "            self.models.append(tree)\n",
    "            self.model_weights.append(model_weight)\n",
    "            \n",
    "    def predict(self, X):\n",
    "        N, _ = X.shape\n",
    "        result = np.zeros(N)\n",
    "        for wt, tree in zip(self.model_weights, self.models):\n",
    "            result += wt * tree.predict(X)\n",
    "        \n",
    "        return np.sign(result)\n",
    "\n",
    "    def score(self, testX, testY):\n",
    "        result = self.predict(testX)\n",
    "        return accuracy_score(testY[self.target], result) "
   ]
  },
  {
   "cell_type": "code",
   "execution_count": 24,
   "metadata": {
    "_cell_guid": "3691fb1c-1b55-4a64-9aa8-102330a34693",
    "_uuid": "829a76f8dbdb6a6ef8281601bc13582874740cdf"
   },
   "outputs": [],
   "source": [
    "m = MyAdaboost(20)"
   ]
  },
  {
   "cell_type": "code",
   "execution_count": 25,
   "metadata": {
    "_cell_guid": "195bbac1-61f4-4d4d-a533-0f15da5d892e",
    "_uuid": "030270358ee70c1d1ce9e02c56fcb89f53d92cef"
   },
   "outputs": [
    {
     "name": "stdout",
     "output_type": "stream",
     "text": [
      "Split on feature odor_n. (3209, 2477)\n",
      "Split on feature stalk-root_c. (2813, 396)\n",
      "Termination 3 reached.\n",
      "Termination 3 reached.\n",
      "Split on feature spore-print-color_r. (2421, 56)\n",
      "Termination 3 reached.\n",
      "Termination 1 reached.\n",
      "Split on feature ring-type_p. (2876, 2810)\n",
      "Split on feature stalk-root_e. (2357, 519)\n",
      "Termination 3 reached.\n",
      "Termination 1 reached.\n",
      "Split on feature odor_f. (2619, 191)\n",
      "Termination 3 reached.\n",
      "Termination 1 reached.\n",
      "Split on feature gill-size_n. (3920, 1766)\n",
      "Split on feature stalk-surface-above-ring_k. (2895, 1025)\n",
      "Termination 3 reached.\n",
      "Termination 3 reached.\n",
      "Split on feature odor_a. (1730, 36)\n",
      "Termination 3 reached.\n",
      "Termination 1 reached.\n",
      "Split on feature spore-print-color_r. (5630, 56)\n",
      "Split on feature odor_p. (5452, 178)\n",
      "Termination 3 reached.\n",
      "Termination 1 reached.\n",
      "Termination 1 reached.\n",
      "Split on feature odor_l. (5402, 284)\n",
      "Split on feature ring-type_f. (5368, 34)\n",
      "Termination 3 reached.\n",
      "Termination 1 reached.\n",
      "Termination 1 reached.\n",
      "Split on feature odor_f. (4188, 1498)\n",
      "Split on feature odor_c. (4053, 135)\n",
      "Termination 3 reached.\n",
      "Termination 1 reached.\n",
      "Termination 1 reached.\n",
      "Split on feature cap-surface_f. (4064, 1622)\n",
      "Split on feature habitat_w. (3931, 133)\n",
      "Termination 3 reached.\n",
      "Termination 1 reached.\n",
      "Split on feature odor_c. (1557, 65)\n",
      "Termination 3 reached.\n",
      "Termination 1 reached.\n",
      "Split on feature stalk-surface-above-ring_k. (4032, 1654)\n",
      "Split on feature cap-color_w. (3350, 682)\n",
      "Termination 3 reached.\n",
      "Termination 3 reached.\n",
      "Split on feature gill-spacing_c. (107, 1547)\n",
      "Termination 1 reached.\n",
      "Termination 1 reached.\n",
      "Split on feature gill-spacing_c. (911, 4775)\n",
      "Split on feature population_c. (898, 13)\n",
      "Termination 3 reached.\n",
      "Termination 1 reached.\n",
      "Split on feature population_v. (2064, 2711)\n",
      "Termination 3 reached.\n",
      "Termination 3 reached.\n",
      "Split on feature odor_n. (3209, 2477)\n",
      "Split on feature odor_a. (2924, 285)\n",
      "Termination 3 reached.\n",
      "Termination 1 reached.\n",
      "Split on feature spore-print-color_r. (2421, 56)\n",
      "Termination 3 reached.\n",
      "Termination 1 reached.\n",
      "Split on feature odor_l. (5402, 284)\n",
      "Split on feature stalk-surface-below-ring_f. (4984, 418)\n",
      "Termination 3 reached.\n",
      "Termination 3 reached.\n",
      "Termination 1 reached.\n",
      "Split on feature population_c. (5447, 239)\n",
      "Split on feature odor_f. (3949, 1498)\n",
      "Termination 3 reached.\n",
      "Termination 1 reached.\n",
      "Split on feature stalk-root_?. (38, 201)\n",
      "Termination 1 reached.\n",
      "Termination 1 reached.\n",
      "Split on feature stalk-shape_e. (3227, 2459)\n",
      "Split on feature habitat_d. (1521, 1706)\n",
      "Termination 3 reached.\n",
      "Termination 3 reached.\n",
      "Split on feature odor_a. (2210, 249)\n",
      "Termination 3 reached.\n",
      "Termination 1 reached.\n",
      "Split on feature odor_n. (3209, 2477)\n",
      "Split on feature odor_l. (2925, 284)\n",
      "Termination 3 reached.\n",
      "Termination 1 reached.\n",
      "Split on feature stalk-surface-below-ring_y. (2440, 37)\n",
      "Termination 3 reached.\n",
      "Termination 3 reached.\n",
      "Split on feature stalk-root_b. (3044, 2642)\n",
      "Split on feature gill-size_n. (1519, 1525)\n",
      "Termination 3 reached.\n",
      "Termination 3 reached.\n",
      "Split on feature stalk-shape_e. (1490, 1152)\n",
      "Termination 3 reached.\n",
      "Termination 3 reached.\n",
      "Split on feature spore-print-color_r. (5630, 56)\n",
      "Split on feature population_c. (5391, 239)\n",
      "Termination 3 reached.\n",
      "Termination 3 reached.\n",
      "Termination 1 reached.\n",
      "Split on feature odor_n. (3209, 2477)\n",
      "Split on feature odor_a. (2924, 285)\n",
      "Termination 3 reached.\n",
      "Termination 1 reached.\n",
      "Split on feature stalk-surface-below-ring_y. (2440, 37)\n",
      "Termination 3 reached.\n",
      "Termination 3 reached.\n",
      "Split on feature stalk-root_b. (3044, 2642)\n",
      "Split on feature stalk-surface-above-ring_k. (2283, 761)\n",
      "Termination 3 reached.\n",
      "Termination 3 reached.\n",
      "Split on feature stalk-color-below-ring_w. (1754, 888)\n",
      "Termination 3 reached.\n",
      "Termination 3 reached.\n",
      "Split on feature odor_l. (5402, 284)\n",
      "Split on feature odor_a. (5117, 285)\n",
      "Termination 3 reached.\n",
      "Termination 1 reached.\n",
      "Termination 1 reached.\n",
      "Split on feature odor_p. (5508, 178)\n",
      "Split on feature spore-print-color_r. (5452, 56)\n",
      "Termination 3 reached.\n",
      "Termination 1 reached.\n",
      "Termination 1 reached.\n"
     ]
    }
   ],
   "source": [
    "m.fit(trainX, trainY)"
   ]
  },
  {
   "cell_type": "markdown",
   "metadata": {
    "_cell_guid": "9f575504-e919-4e9b-a0a8-c88a6a9a85e2",
    "_uuid": "e6b11400fbac0b69a54fb58bd119163c7eabd9bb"
   },
   "source": [
    "#### 阶段性测试  \n",
    "- 根据测试样例，输出应该是接近于1.0的得分"
   ]
  },
  {
   "cell_type": "code",
   "execution_count": 26,
   "metadata": {
    "_cell_guid": "5ec6b949-bf1e-4312-991b-1baf87bc5e0b",
    "_uuid": "7d2334b595bce880eaa5b6cd349a090cd3452e2e"
   },
   "outputs": [
    {
     "data": {
      "text/plain": [
       "1.0"
      ]
     },
     "execution_count": 26,
     "metadata": {},
     "output_type": "execute_result"
    }
   ],
   "source": [
    "m.score(testX, testY)"
   ]
  },
  {
   "cell_type": "code",
   "execution_count": null,
   "metadata": {},
   "outputs": [],
   "source": []
  }
 ],
 "metadata": {
  "kernelspec": {
   "display_name": "Python 3",
   "language": "python",
   "name": "python3"
  },
  "language_info": {
   "codemirror_mode": {
    "name": "ipython",
    "version": 3
   },
   "file_extension": ".py",
   "mimetype": "text/x-python",
   "name": "python",
   "nbconvert_exporter": "python",
   "pygments_lexer": "ipython3",
   "version": "3.6.6"
  }
 },
 "nbformat": 4,
 "nbformat_minor": 1
}
